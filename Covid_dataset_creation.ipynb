{
 "cells": [
  {
   "cell_type": "markdown",
   "id": "c43d981d",
   "metadata": {},
   "source": [
    "### Extracting conifrmed cases in the US"
   ]
  },
  {
   "cell_type": "code",
   "execution_count": 5,
   "id": "dd2947c8",
   "metadata": {},
   "outputs": [
    {
     "name": "stdout",
     "output_type": "stream",
     "text": [
      "           Date  Confirmed cases\n",
      "0    2020-01-22                1\n",
      "1    2020-01-23                1\n",
      "2    2020-01-24                2\n",
      "3    2020-01-25                2\n",
      "4    2020-01-26                5\n",
      "...         ...              ...\n",
      "1138 2023-03-05        103646975\n",
      "1139 2023-03-06        103655539\n",
      "1140 2023-03-07        103690910\n",
      "1141 2023-03-08        103755771\n",
      "1142 2023-03-09        103802702\n",
      "\n",
      "[1143 rows x 2 columns]\n"
     ]
    }
   ],
   "source": [
    "import pandas as pd\n",
    "import numpy as np\n",
    "\n",
    "df = pd.read_csv(\"./csse_covid_19_time_series/time_series_covid19_confirmed_global.csv\")\n",
    "\n",
    "def fix_year(column_name):\n",
    "    if column_name.endswith(\"-20\"):\n",
    "        return column_name[:-2] + \"2020\"\n",
    "    elif column_name.endswith(\"-21\"):\n",
    "        return column_name[:-2] + \"2021\"\n",
    "    elif column_name.endswith(\"-22\"):\n",
    "        return column_name[:-2] + \"2022\"\n",
    "    elif column_name.endswith(\"-23\"):\n",
    "        return column_name[:-2] + \"2023\"\n",
    "    else:\n",
    "        return column_name\n",
    "\n",
    "# Apply the function to all column names\n",
    "df = df.rename(columns=fix_year)\n",
    "#print(df)\n",
    "\n",
    "#df.to_csv(\"./csse_covid_19_time_series/time_series_covid19_confirmed_global.csv\", index=False)\n",
    "\n",
    "\n",
    "# Select rows where the Country/Region column equals \"US\"\n",
    "df_us = df[df[\"Country/Region\"] == \"US\"]\n",
    "\n",
    "# Remove the first four columns\n",
    "df_us = df_us.iloc[:, 4:]\n",
    "\n",
    "# Transpose the dataframe\n",
    "df_us = df_us.transpose()\n",
    "\n",
    "\n",
    "\n",
    "df_us = df_us.rename(columns={df_us.columns[0]: 'Confirmed cases'})\n",
    "\n",
    "\n",
    "# add a column for dates\n",
    "df_us = df_us.reset_index()\n",
    "df_us = df_us.rename(columns={'index': 'Date'})\n",
    "\n",
    "df_us['Date'] = pd.to_datetime(df_us['Date'], format='%m-%d-%Y')\n",
    "\n",
    "print(df_us)"
   ]
  },
  {
   "cell_type": "markdown",
   "id": "a97865f8",
   "metadata": {},
   "source": [
    "### Extracting total deaths in the US"
   ]
  },
  {
   "cell_type": "code",
   "execution_count": 7,
   "id": "473bf360",
   "metadata": {},
   "outputs": [
    {
     "name": "stdout",
     "output_type": "stream",
     "text": [
      "           Date  Confirmed cases   Deaths\n",
      "0    2020-01-22                1        0\n",
      "1    2020-01-23                1        0\n",
      "2    2020-01-24                2        0\n",
      "3    2020-01-25                2        0\n",
      "4    2020-01-26                5        0\n",
      "...         ...              ...      ...\n",
      "1138 2023-03-05        103646975  1122134\n",
      "1139 2023-03-06        103655539  1122181\n",
      "1140 2023-03-07        103690910  1122516\n",
      "1141 2023-03-08        103755771  1123246\n",
      "1142 2023-03-09        103802702  1123836\n",
      "\n",
      "[1143 rows x 3 columns]\n"
     ]
    }
   ],
   "source": [
    "# read in the second dataset\n",
    "df_us_deaths = pd.read_csv('./csse_covid_19_time_series/time_series_covid19_deaths_global.csv')\n",
    "\n",
    "df_us_deaths = df_us_deaths.rename(columns=fix_year)\n",
    "\n",
    "#print(df_us_deaths)\n",
    "\n",
    "# select rows where country is US\n",
    "df_us_deaths = df_us_deaths[df_us_deaths['Country/Region'] == 'US']\n",
    "\n",
    "# drop the first four columns\n",
    "df_us_deaths = df_us_deaths.iloc[:, 4:]\n",
    "\n",
    "# transpose the dataframe\n",
    "df_us_deaths = df_us_deaths.transpose()\n",
    "\n",
    "# set the column names\n",
    "df_us_deaths.columns = ['Deaths']\n",
    "\n",
    "# add a column for dates\n",
    "df_us_deaths = df_us_deaths.reset_index()\n",
    "df_us_deaths = df_us_deaths.rename(columns={'index': 'Date'})\n",
    "\n",
    "df_us_deaths = df_us_deaths.drop('Date', axis=1)\n",
    "#print(df_us_deaths)\n",
    "\n",
    "\n",
    "# add the Deaths column to the previous dataframe\n",
    "df_us_cd = pd.concat([df_us, df_us_deaths], axis=1)\n",
    "print(df_us_cd)"
   ]
  },
  {
   "cell_type": "markdown",
   "id": "de663e9b",
   "metadata": {},
   "source": [
    "### Extracting active cases in the US"
   ]
  },
  {
   "cell_type": "code",
   "execution_count": 10,
   "id": "2c927ad8",
   "metadata": {
    "scrolled": true
   },
   "outputs": [
    {
     "name": "stdout",
     "output_type": "stream",
     "text": [
      "           Date  Confirmed cases   Deaths  Recovered\n",
      "0    2020-01-22                1        0          0\n",
      "1    2020-01-23                1        0          0\n",
      "2    2020-01-24                2        0          0\n",
      "3    2020-01-25                2        0          0\n",
      "4    2020-01-26                5        0          0\n",
      "...         ...              ...      ...        ...\n",
      "1138 2023-03-05        103646975  1122134          0\n",
      "1139 2023-03-06        103655539  1122181          0\n",
      "1140 2023-03-07        103690910  1122516          0\n",
      "1141 2023-03-08        103755771  1123246          0\n",
      "1142 2023-03-09        103802702  1123836          0\n",
      "\n",
      "[1143 rows x 4 columns]\n"
     ]
    }
   ],
   "source": [
    "# read in the second dataset\n",
    "df_us_recovered = pd.read_csv('./csse_covid_19_time_series/time_series_covid19_recovered_global.csv')\n",
    "\n",
    "df_us_recovered = df_us_recovered.rename(columns=fix_year)\n",
    "\n",
    "#print(df_us_deaths)\n",
    "\n",
    "# select rows where country is US\n",
    "df_us_recovered = df_us_recovered[df_us_recovered['Country/Region'] == 'US']\n",
    "\n",
    "# drop the first four columns\n",
    "df_us_recovered = df_us_recovered.iloc[:, 4:]\n",
    "\n",
    "# transpose the dataframe\n",
    "df_us_recovered = df_us_recovered.transpose()\n",
    "\n",
    "# set the column names\n",
    "df_us_recovered.columns = ['Recovered']\n",
    "\n",
    "# add a column for dates\n",
    "df_us_recovered = df_us_recovered.reset_index()\n",
    "df_us_recovered = df_us_recovered.rename(columns={'index': 'Date'})\n",
    "\n",
    "df_us_recovered = df_us_recovered.drop('Date', axis=1)\n",
    "#print(df_us_deaths)\n",
    "\n",
    "\n",
    "# add the Deaths column to the previous dataframe\n",
    "df_us_cdr = pd.concat([df_us_cd, df_us_recovered], axis=1)\n",
    "print(df_us_cdr)"
   ]
  },
  {
   "cell_type": "markdown",
   "id": "93c691b4",
   "metadata": {},
   "source": [
    "### Creating daily new cases, deaths, and active cases"
   ]
  },
  {
   "cell_type": "code",
   "execution_count": 12,
   "id": "d552e6dc",
   "metadata": {},
   "outputs": [
    {
     "name": "stdout",
     "output_type": "stream",
     "text": [
      "           Date  Confirmed cases   Deaths  Recovered  Daily New Cases  \\\n",
      "0    2020-01-22                1        0          0                0   \n",
      "1    2020-01-23                1        0          0                0   \n",
      "2    2020-01-24                2        0          0                1   \n",
      "3    2020-01-25                2        0          0                0   \n",
      "4    2020-01-26                5        0          0                3   \n",
      "...         ...              ...      ...        ...              ...   \n",
      "1138 2023-03-05        103646975  1122134          0            -3862   \n",
      "1139 2023-03-06        103655539  1122181          0             8564   \n",
      "1140 2023-03-07        103690910  1122516          0            35371   \n",
      "1141 2023-03-08        103755771  1123246          0            64861   \n",
      "1142 2023-03-09        103802702  1123836          0            46931   \n",
      "\n",
      "      Daily Deaths  Active Cases  \n",
      "0                0             1  \n",
      "1                0             1  \n",
      "2                0             2  \n",
      "3                0             2  \n",
      "4                0             5  \n",
      "...            ...           ...  \n",
      "1138           -38     102524841  \n",
      "1139            47     102533358  \n",
      "1140           335     102568394  \n",
      "1141           730     102632525  \n",
      "1142           590     102678866  \n",
      "\n",
      "[1143 rows x 7 columns]\n"
     ]
    }
   ],
   "source": [
    "import pandas as pd\n",
    "\n",
    "# Load the dataset\n",
    "#df_us_cdr = pd.read_csv('your_dataset.csv')\n",
    "\n",
    "# Convert the Date column to datetime\n",
    "df_us_cdr['Date'] = pd.to_datetime(df_us_cdr['Date'], format='%Y-%m-%d')\n",
    "\n",
    "# Calculate daily new cases and deaths\n",
    "df_us_cdr['Daily New Cases'] = df_us_cdr['Confirmed cases'].diff().fillna(0).astype(int)\n",
    "df_us_cdr['Daily Deaths'] = df_us_cdr['Deaths'].diff().fillna(0).astype(int)\n",
    "\n",
    "# Calculate active cases\n",
    "df_us_cdr['Active Cases'] = df_us_cdr['Confirmed cases'] - df_us_cdr['Deaths'] - df_us_cdr['Recovered']\n",
    "\n",
    "# Print the updated dataframe\n",
    "print(df_us_cdr)\n"
   ]
  },
  {
   "cell_type": "markdown",
   "id": "3b70f1f9",
   "metadata": {},
   "source": [
    "### Merging S&P 500 dataset and Covid-19 dataset"
   ]
  },
  {
   "cell_type": "code",
   "execution_count": 18,
   "id": "52d48e3d",
   "metadata": {},
   "outputs": [
    {
     "name": "stdout",
     "output_type": "stream",
     "text": [
      "                   Open         High          Low        Close    Adj Close  \\\n",
      "Date                                                                          \n",
      "2020-01-22  3330.020020  3337.770020  3320.040039  3321.750000  3321.750000   \n",
      "2020-01-23  3315.770020  3326.879883  3301.870117  3325.540039  3325.540039   \n",
      "2020-01-24  3333.100098  3333.179932  3281.530029  3295.469971  3295.469971   \n",
      "2020-01-27  3247.159912  3258.850098  3234.500000  3243.629883  3243.629883   \n",
      "2020-01-28  3255.350098  3285.780029  3253.219971  3276.239990  3276.239990   \n",
      "...                 ...          ...          ...          ...          ...   \n",
      "2023-03-03  3998.020020  4048.290039  3995.169922  4045.639893  4045.639893   \n",
      "2023-03-06  4055.149902  4078.489990  4044.610107  4048.419922  4048.419922   \n",
      "2023-03-07  4048.260010  4050.000000  3980.310059  3986.370117  3986.370117   \n",
      "2023-03-08  3987.550049  4000.409912  3969.760010  3992.010010  3992.010010   \n",
      "2023-03-09  3998.659912  4017.810059  3908.699951  3918.320068  3918.320068   \n",
      "\n",
      "                Volume  \n",
      "Date                    \n",
      "2020-01-22  3623780000  \n",
      "2020-01-23  3766710000  \n",
      "2020-01-24  3708780000  \n",
      "2020-01-27  3831050000  \n",
      "2020-01-28  3531570000  \n",
      "...                ...  \n",
      "2023-03-03  4084730000  \n",
      "2023-03-06  4000870000  \n",
      "2023-03-07  3922500000  \n",
      "2023-03-08  3535570000  \n",
      "2023-03-09  4445260000  \n",
      "\n",
      "[789 rows x 6 columns]\n",
      "          Date  Confirmed cases   Deaths  Recovered  Daily New Cases  \\\n",
      "0   2020-01-22                1        0          0                0   \n",
      "1   2020-01-23                1        0          0                0   \n",
      "2   2020-01-24                2        0          0                1   \n",
      "3   2020-01-27                5        0          0                0   \n",
      "4   2020-01-28                5        0          0                0   \n",
      "..         ...              ...      ...        ...              ...   \n",
      "784 2023-03-03        103648690  1122165          0            58933   \n",
      "785 2023-03-06        103655539  1122181          0             8564   \n",
      "786 2023-03-07        103690910  1122516          0            35371   \n",
      "787 2023-03-08        103755771  1123246          0            64861   \n",
      "788 2023-03-09        103802702  1123836          0            46931   \n",
      "\n",
      "     Daily Deaths  Active Cases         Open         High          Low  \\\n",
      "0               0             1  3330.020020  3337.770020  3320.040039   \n",
      "1               0             1  3315.770020  3326.879883  3301.870117   \n",
      "2               0             2  3333.100098  3333.179932  3281.530029   \n",
      "3               0             5  3247.159912  3258.850098  3234.500000   \n",
      "4               0             5  3255.350098  3285.780029  3253.219971   \n",
      "..            ...           ...          ...          ...          ...   \n",
      "784           507     102526525  3998.020020  4048.290039  3995.169922   \n",
      "785            47     102533358  4055.149902  4078.489990  4044.610107   \n",
      "786           335     102568394  4048.260010  4050.000000  3980.310059   \n",
      "787           730     102632525  3987.550049  4000.409912  3969.760010   \n",
      "788           590     102678866  3998.659912  4017.810059  3908.699951   \n",
      "\n",
      "           Close    Adj Close      Volume  \n",
      "0    3321.750000  3321.750000  3623780000  \n",
      "1    3325.540039  3325.540039  3766710000  \n",
      "2    3295.469971  3295.469971  3708780000  \n",
      "3    3243.629883  3243.629883  3831050000  \n",
      "4    3276.239990  3276.239990  3531570000  \n",
      "..           ...          ...         ...  \n",
      "784  4045.639893  4045.639893  4084730000  \n",
      "785  4048.419922  4048.419922  4000870000  \n",
      "786  3986.370117  3986.370117  3922500000  \n",
      "787  3992.010010  3992.010010  3535570000  \n",
      "788  3918.320068  3918.320068  4445260000  \n",
      "\n",
      "[789 rows x 13 columns]\n"
     ]
    }
   ],
   "source": [
    "df_sp500 = pd.read_csv('s_and_p.csv')\n",
    "\n",
    "# Convert the Date column to datetime format\n",
    "df_sp500['Date'] = pd.to_datetime(df_sp500['Date'], format='%Y-%m-%d')\n",
    "\n",
    "# Set the Date column as the index\n",
    "df_sp500 = df_sp500.set_index('Date')\n",
    "\n",
    "# Extract the data between the dates '22-01-2020' and '09-03-2023'\n",
    "df_sp500 = df_sp500.loc['2020-01-22':'2023-03-09']\n",
    "\n",
    "print(df_sp500)\n",
    "\n",
    "df_covid_stocks = pd.merge(df_us_cdr, df_sp500, on='Date', how='inner')\n",
    "\n",
    "print(df_covid_stocks)\n",
    "\n",
    "df_covid_stocks.to_csv('covid_stocks_combined.csv', index=False)"
   ]
  },
  {
   "cell_type": "code",
   "execution_count": null,
   "id": "3e1fafbc",
   "metadata": {},
   "outputs": [],
   "source": []
  }
 ],
 "metadata": {
  "kernelspec": {
   "display_name": "Python 3 (ipykernel)",
   "language": "python",
   "name": "python3"
  },
  "language_info": {
   "codemirror_mode": {
    "name": "ipython",
    "version": 3
   },
   "file_extension": ".py",
   "mimetype": "text/x-python",
   "name": "python",
   "nbconvert_exporter": "python",
   "pygments_lexer": "ipython3",
   "version": "3.9.13"
  }
 },
 "nbformat": 4,
 "nbformat_minor": 5
}
